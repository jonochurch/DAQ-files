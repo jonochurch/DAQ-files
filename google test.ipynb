{
 "cells": [
  {
   "cell_type": "code",
   "execution_count": 1,
   "metadata": {},
   "outputs": [],
   "source": [
    "# def solution(x,y):\n",
    "#     x.sort()\n",
    "#     y.sort()\n",
    "#     if len(x) > len (y):\n",
    "#         a,b=x,y\n",
    "#     else: \n",
    "#         a,b=y,x   \n",
    "#     if a[-1] != b[-1]:\n",
    "#         s=a[-1]\n",
    "#     else:    \n",
    "#         i=0\n",
    "#         while i< len(b):\n",
    "#             z=a[i]\n",
    "#             if z != b[i]:\n",
    "#                 break\n",
    "#             i += 1\n",
    "#         s=z        \n",
    "             \n",
    "#     return s           \n",
    "                \n",
    "# x=[13, 5, 6, 2, 5]\n",
    "# y= [5, 2, 5, 13]\n",
    "# print(solution(x,y))"
   ]
  },
  {
   "cell_type": "code",
   "execution_count": 8,
   "metadata": {},
   "outputs": [],
   "source": [
    "def solution(h,q):\n",
    "    array = range(2**h)"
   ]
  },
  {
   "cell_type": "code",
   "execution_count": 4,
   "metadata": {},
   "outputs": [],
   "source": [
    "x=range(2**10)"
   ]
  },
  {
   "cell_type": "code",
   "execution_count": 51,
   "metadata": {},
   "outputs": [
    {
     "data": {
      "text/plain": [
       "3"
      ]
     },
     "execution_count": 51,
     "metadata": {},
     "output_type": "execute_result"
    }
   ],
   "source": [
    "import math\n"
   ]
  },
  {
   "cell_type": "code",
   "execution_count": 56,
   "metadata": {},
   "outputs": [],
   "source": [
    "x=7\n",
    "mask=1\n",
    "y=math.ceil(math.log(x,2)) "
   ]
  },
  {
   "cell_type": "code",
   "execution_count": 58,
   "metadata": {},
   "outputs": [
    {
     "data": {
      "text/plain": [
       "3"
      ]
     },
     "execution_count": 58,
     "metadata": {},
     "output_type": "execute_result"
    }
   ],
   "source": []
  },
  {
   "cell_type": "code",
   "execution_count": null,
   "metadata": {},
   "outputs": [],
   "source": []
  }
 ],
 "metadata": {
  "kernelspec": {
   "display_name": "Python 3",
   "language": "python",
   "name": "python3"
  },
  "language_info": {
   "codemirror_mode": {
    "name": "ipython",
    "version": 3
   },
   "file_extension": ".py",
   "mimetype": "text/x-python",
   "name": "python",
   "nbconvert_exporter": "python",
   "pygments_lexer": "ipython3",
   "version": "3.8.10"
  },
  "orig_nbformat": 4
 },
 "nbformat": 4,
 "nbformat_minor": 2
}
