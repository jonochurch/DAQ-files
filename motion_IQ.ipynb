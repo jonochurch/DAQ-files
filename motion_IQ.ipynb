{
 "cells": [
  {
   "cell_type": "code",
   "execution_count": null,
   "metadata": {},
   "outputs": [],
   "source": [
    "def lowpass_filter(column,dict):#column, cutoff, order, sample_rate):\n",
    "    cutoff = dict['cutoff']\n",
    "    order = dict['order']  \n",
    "    rate = dict['rate']\n",
    "    b,a = signal.butter(order,cutoff/(rate/2),btype='lowpass')\n",
    "    filtered_channel = signal.filtfilt(b,a,column)\n",
    "    return (filtered_channel)\n",
    "\n",
    "def get_psd(df,fs,bin_width):\n",
    "    \n",
    "    #fs = len(df)/(df.index[-1]-df.index[0])    \n",
    "    f, psd = signal.welch(df.to_numpy(), \n",
    "                          fs=fs, \n",
    "                          nperseg=fs/bin_width,\n",
    "                          #window='hanning',\n",
    "                          axis=0\n",
    "                         )\n",
    "\n",
    "    df_psd = pd.DataFrame(psd)#,columns=df.columns)\n",
    "    df_psd.columns\n",
    "    df_psd['Frequency (Hz)'] = f\n",
    "    df_psd = df_psd.set_index('Frequency (Hz)')\n",
    "    \n",
    "    return df_psd[1:] #drop the first value because it makes the plots look bad and is effectively 0\n",
    "\n",
    "gps_data = data['locations']  # extra GPS entry\n",
    "frame=pd.DataFrame(gps_data) # Convert to data frame\n",
    "\n",
    "frame['elapsed_time'] = frame['tUTC'] - frame['tUTC'][0] # change time values to relative for this run\n",
    "\n",
    "susp=data['suspension']\n",
    "df=pd.DataFrame(susp)  # choose suspension entry and create dataframe\n",
    "df=df[:snip]\n",
    "\n",
    "\n",
    "#clip zero values/sensor dropouts & generate velocity columns\n",
    "def process_sensor_data(df,rate):\n",
    "    size=len(df.index)\n",
    "    timedata,interval=np.linspace(0,size/rate,num=size,retstep=True, endpoint=False) #create timestamps\n",
    "    df['time']=np.round(timedata,3) # add to dataframe, round to 0.001s\n",
    "    df.where(df.fork>0,inplace=True)\n",
    "    df.where(df.shock>0,inplace=True)\n",
    "    df.where(df.rearWheel>0,inplace=True)\n",
    "    df['forkVelocity']=np.gradient(df.fork,df.time)\n",
    "    df['shockVelocity']=np.gradient(df.shock,df.time)\n",
    "    df['rearVelocity']=np.gradient(df.rearWheel,df.time)\n",
    "    return df"
   ]
  }
 ],
 "metadata": {
  "language_info": {
   "name": "python"
  },
  "orig_nbformat": 4
 },
 "nbformat": 4,
 "nbformat_minor": 2
}
